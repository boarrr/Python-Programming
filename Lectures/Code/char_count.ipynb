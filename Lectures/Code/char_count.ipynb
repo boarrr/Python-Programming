{
 "cells": [
  {
   "cell_type": "code",
   "execution_count": 3,
   "id": "bb831408-4052-4e15-943d-4a4508835527",
   "metadata": {
    "tags": []
   },
   "outputs": [
    {
     "name": "stdin",
     "output_type": "stream",
     "text": [
      "please enter a word: cheese\n",
      "please enter a character: e\n"
     ]
    },
    {
     "name": "stdout",
     "output_type": "stream",
     "text": [
      "3\n"
     ]
    }
   ],
   "source": [
    "A = input('please enter a word:')\n",
    "C = input('please enter a character:')\n",
    "\n",
    "position = 0\n",
    "char_count = 0\n",
    "N = len(A)\n",
    "while position < N:\n",
    "    if(A[position] == C):\n",
    "        char_count = char_count+1\n",
    "    position = position + 1\n",
    "\n",
    "print(char_count)\n",
    "        "
   ]
  },
  {
   "cell_type": "code",
   "execution_count": null,
   "id": "2777f07e-813d-46ca-a421-01fac39b4287",
   "metadata": {},
   "outputs": [],
   "source": []
  }
 ],
 "metadata": {
  "kernelspec": {
   "display_name": "Python 3 (ipykernel)",
   "language": "python",
   "name": "python3"
  },
  "language_info": {
   "codemirror_mode": {
    "name": "ipython",
    "version": 3
   },
   "file_extension": ".py",
   "mimetype": "text/x-python",
   "name": "python",
   "nbconvert_exporter": "python",
   "pygments_lexer": "ipython3",
   "version": "3.11.6"
  }
 },
 "nbformat": 4,
 "nbformat_minor": 5
}
