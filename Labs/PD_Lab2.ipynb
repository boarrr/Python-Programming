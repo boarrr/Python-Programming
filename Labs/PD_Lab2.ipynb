{
 "cells": [
  {
   "cell_type": "markdown",
   "metadata": {},
   "source": [
    "# Lab 2\n",
    "### Question 1\n",
    "When you are finished you can leave the lab.\n",
    "Assignments bind values to a variable name. An Assignment in pretty much all languages looks something like this:"
   ]
  },
  {
   "cell_type": "code",
   "execution_count": 2,
   "metadata": {},
   "outputs": [
    {
     "name": "stdout",
     "output_type": "stream",
     "text": [
      "The value in X is 3 and the value in Y is 1\n"
     ]
    }
   ],
   "source": [
    "x=1\n",
    "y=3\n",
    "\n",
    "c = x\n",
    "x = y\n",
    "y = c\n",
    "\n",
    "print(f\"The value in X is {x} and the value in Y is {y}\")"
   ]
  },
  {
   "cell_type": "markdown",
   "metadata": {},
   "source": [
    "When we run the above code the values 1 and 3 are stored in memory and thess values are bound to the variable names x and y respectively. Can you write a piece of code that switches the values of the variables?"
   ]
  },
  {
   "cell_type": "markdown",
   "metadata": {},
   "source": [
    "## Question 2\n",
    "\n",
    "Design an algorithm that takes the following three variables and puts the value of a in b, b in c and c in a. Check your answer using a print statement."
   ]
  },
  {
   "cell_type": "code",
   "execution_count": 3,
   "metadata": {},
   "outputs": [
    {
     "name": "stdout",
     "output_type": "stream",
     "text": [
      "The values are as follows: a = 3, b = 1, c = 2\n"
     ]
    }
   ],
   "source": [
    "a=1\n",
    "b=2\n",
    "c=3\n",
    "\n",
    "temp = a\n",
    "\n",
    "a = c\n",
    "c = b\n",
    "b = temp\n",
    "\n",
    "print(f\"The values are as follows: a = {a}, b = {b}, c = {c}\")\n"
   ]
  },
  {
   "cell_type": "markdown",
   "metadata": {},
   "source": [
    "### Question 3"
   ]
  },
  {
   "cell_type": "code",
   "execution_count": 4,
   "metadata": {},
   "outputs": [
    {
     "name": "stdout",
     "output_type": "stream",
     "text": [
      "First statement - Hello, I am inside the IF statement!\n"
     ]
    }
   ],
   "source": [
    "y = 5\n",
    "\n",
    "if y>4:\n",
    "    print('First statement - Hello, I am inside the IF statement!')\n",
    "else:\n",
    "    print('Second statement - Hello, I am inside the Else part!')"
   ]
  },
  {
   "cell_type": "markdown",
   "metadata": {},
   "source": [
    "Can you change the above statement to print the first statement?"
   ]
  },
  {
   "cell_type": "markdown",
   "metadata": {},
   "source": [
    "### Question 4\n",
    "Take a look at the code below and see if you can answer the questions following it."
   ]
  },
  {
   "cell_type": "code",
   "execution_count": 5,
   "metadata": {},
   "outputs": [
    {
     "name": "stdout",
     "output_type": "stream",
     "text": [
      "fare =  5\n"
     ]
    }
   ],
   "source": [
    "# If age is 67 fare should be 5, as the if is greater than 67 only\n",
    "\n",
    "age = 67\n",
    "\n",
    "if age > 67:\n",
    "    fare = 0\n",
    "else:\n",
    "    fare = 5\n",
    "\n",
    "print('fare = ', fare)"
   ]
  },
  {
   "cell_type": "markdown",
   "metadata": {},
   "source": [
    "If age is 67 what would the fare be? First work it out then experiment with the code. Can you change the code above to find out?"
   ]
  },
  {
   "cell_type": "markdown",
   "metadata": {},
   "source": [
    "## Question 5\n",
    "Can you work out what the below loop does? As the loop iterates, can you print out the total and the value of the variable i on each iteration? Can you change it to print the word 'hello' when the variable 'i' has the value 6?"
   ]
  },
  {
   "cell_type": "markdown",
   "metadata": {},
   "source": [
    "## Qustion 6\n",
    "Write a program that uses a loop to calculate the sum of the following series: ask the user for a positive integer, N, and outputs the sum of the series 1 + 1/2 + 1/3 + ... + 1/N."
   ]
  },
  {
   "cell_type": "code",
   "execution_count": 7,
   "metadata": {},
   "outputs": [
    {
     "name": "stdout",
     "output_type": "stream",
     "text": [
      "The total is 1 on iteration 1\n",
      "The total is 2 on iteration 2\n",
      "The total is 3 on iteration 3\n",
      "The total is 4 on iteration 4\n",
      "The total is 5 on iteration 5\n",
      "The total is 6 on iteration 6\n",
      "Hello\n",
      "The total is 7 on iteration 7\n",
      "The total is 8 on iteration 8\n",
      "The total is 9 on iteration 9\n",
      "The total is 10 on iteration 10\n"
     ]
    }
   ],
   "source": [
    "\n",
    "\n",
    "i = 0\n",
    "total = 0\n",
    "while i < 10:\n",
    "    total = total + 1\n",
    "    i = i + 1\n",
    "    \n",
    "    print(f\"The total is {total} on iteration {i}\")\n",
    "    if (total == 6): print(\"Hello\")\n",
    "    "
   ]
  },
  {
   "cell_type": "code",
   "execution_count": 31,
   "metadata": {},
   "outputs": [
    {
     "name": "stdout",
     "output_type": "stream",
     "text": [
      "21.30048150134855\n"
     ]
    }
   ],
   "source": [
    "n = int(input(\"Enter a positive integer of terms: \"))\n",
    "sum = 0\n",
    "\n",
    "for i in range(1, n + 1):\n",
    "  sum = sum + (1/i)\n",
    "\n",
    "print(sum)"
   ]
  }
 ],
 "metadata": {
  "kernelspec": {
   "display_name": "Python 3 (ipykernel)",
   "language": "python",
   "name": "python3"
  },
  "language_info": {
   "codemirror_mode": {
    "name": "ipython",
    "version": 3
   },
   "file_extension": ".py",
   "mimetype": "text/x-python",
   "name": "python",
   "nbconvert_exporter": "python",
   "pygments_lexer": "ipython3",
   "version": "3.9.7"
  }
 },
 "nbformat": 4,
 "nbformat_minor": 4
}
