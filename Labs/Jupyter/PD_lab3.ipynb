{
 "cells": [
  {
   "cell_type": "markdown",
   "metadata": {},
   "source": [
    "## Question 1\n",
    "The code below reads in integer variables a, b, c. Can you sort the values in the variables - a having the smallest of the three values, b the middle valus and c the largest - using only if statements? Use test values and print the variable names and values to check your answer."
   ]
  },
  {
   "cell_type": "code",
   "execution_count": 7,
   "metadata": {},
   "outputs": [
    {
     "name": "stdout",
     "output_type": "stream",
     "text": [
      "1 2 4\n"
     ]
    }
   ],
   "source": [
    "a = int(input('please enter a value for a\\n'))\n",
    "b = int(input('please enter a value for b\\n'))\n",
    "c = int(input('please enter a value for c\\n'))\n",
    "temp = 0\n",
    "\n",
    "# Sort these 3 values small to large\n",
    "if a > b:\n",
    "    temp = a\n",
    "    a = b\n",
    "    b = temp\n",
    "if a > c:\n",
    "    temp = a\n",
    "    a = c\n",
    "    c = temp\n",
    "if b > c:\n",
    "    temp = b\n",
    "    b = c\n",
    "    c = temp\n",
    "\n",
    "# Print the values in sorted order\n",
    "print(a, b, c)    \n"
   ]
  },
  {
   "cell_type": "markdown",
   "metadata": {},
   "source": [
    "## Question 2\n",
    "The folowing is the expression for converting temperature in celsius to farenheit:  \n",
    "F = (C × 9/5) + 32  \n",
    "where C is the temperature in celsius and F is the tmperature in farenheit. Write a program that prints out the tempertures in celsius from 0 to 100 in increments of 10 with the corresponding temperatures in farenheit."
   ]
  },
  {
   "cell_type": "code",
   "execution_count": 10,
   "metadata": {},
   "outputs": [
    {
     "name": "stdout",
     "output_type": "stream",
     "text": [
      "0 32.0\n",
      "10 50.0\n",
      "20 68.0\n",
      "30 86.0\n",
      "40 104.0\n",
      "50 122.0\n",
      "60 140.0\n",
      "70 158.0\n",
      "80 176.0\n",
      "90 194.0\n",
      "100 212.0\n"
     ]
    }
   ],
   "source": [
    "celcius = 0\n",
    "\n",
    "while celcius <= 100:\n",
    "    farenheit = (celcius * 9/5) + 32\n",
    "    print(celcius, farenheit)\n",
    "    celcius += 10\n"
   ]
  },
  {
   "cell_type": "markdown",
   "metadata": {},
   "source": [
    "## Question 3\n",
    "Can you design an algorithm that reads in 2 integers and simulates multiplication using a loop and addition? Test your algorithm with different vaules. Can you make it work for positive and negative numbers using only if else, loops, addition and subtraction?"
   ]
  },
  {
   "cell_type": "code",
   "execution_count": 6,
   "metadata": {},
   "outputs": [
    {
     "name": "stdout",
     "output_type": "stream",
     "text": [
      "-8\n"
     ]
    }
   ],
   "source": [
    "a = int(input('please enter a value for a\\n'))\n",
    "b = int(input('please enter a value for b\\n'))\n",
    "total = 0\n",
    "\n",
    "while a != 0:\n",
    "    if a < 0:\n",
    "        a = a + 1\n",
    "        total -= b\n",
    "    else:\n",
    "        a = a - 1\n",
    "        total += b\n",
    "    \n",
    "print(total)"
   ]
  },
  {
   "cell_type": "markdown",
   "metadata": {},
   "source": [
    "## Question 4 \n",
    "Write an algorithm that asks for 10 integers between 0 and 100 inclusive (using a loop). Assume that integers are entered, but not that they are valid values (i.e. the entered integers have values outside the requested range). Only count vald entries. Print the sum of all the valid integers enetered after all 10 valid integers have been entered. "
   ]
  },
  {
   "cell_type": "code",
   "execution_count": 8,
   "metadata": {},
   "outputs": [
    {
     "name": "stdout",
     "output_type": "stream",
     "text": [
      "please enter a number between 0 and 100\n",
      "please enter a number between 0 and 100\n",
      "206\n"
     ]
    }
   ],
   "source": [
    "numInputs = 10\n",
    "count = 0\n",
    "\n",
    "while numInputs > 0:\n",
    "    num = int(input('please enter a number\\n'))\n",
    "    \n",
    "    if num >= 0 and num <= 100:\n",
    "        count += num\n",
    "        numInputs -= 1\n",
    "    else:\n",
    "        print('please enter a number between 0 and 100')\n",
    "        \n",
    "print(count)"
   ]
  }
 ],
 "metadata": {
  "kernelspec": {
   "display_name": "Python 3 (ipykernel)",
   "language": "python",
   "name": "python3"
  },
  "language_info": {
   "codemirror_mode": {
    "name": "ipython",
    "version": 3
   },
   "file_extension": ".py",
   "mimetype": "text/x-python",
   "name": "python",
   "nbconvert_exporter": "python",
   "pygments_lexer": "ipython3",
   "version": "3.11.5"
  }
 },
 "nbformat": 4,
 "nbformat_minor": 4
}
