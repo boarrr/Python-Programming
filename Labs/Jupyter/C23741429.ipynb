{
 "cells": [
  {
   "cell_type": "markdown",
   "metadata": {},
   "source": [
    "# Instructions\n",
    "This lab has to be submitted by 2:55pm Monday 16-10-2023. Write your solutions in this file and save your completed lab as your_student_number.ipynb.   \n",
    "This lab will account for 20% of the mark for the module. Please feel free to use samples of code from previous labs and lectures to assist you in formulating your answers.  \n",
    "If you are stuck on a problem do whatever part of the problem you can - for example get the loop iterating the correct number of times, try to have the input and output working etc.\n"
   ]
  },
  {
   "cell_type": "markdown",
   "metadata": {},
   "source": [
    "## Question 1 (8 marks)\n",
    "Create an algorithm that reads in a series of positive integers (i.e., whole numbers greater than or equal to one) from the user. Count the number of entered integers over 50 and the total number of integers entered. The user should enter the number zero to indicate that they have finished entering integers. The number zero should not be included in the count of integers entered. Use a loop in the algorithm. Do not use a break statement to end the loop."
   ]
  },
  {
   "cell_type": "code",
   "execution_count": 9,
   "metadata": {},
   "outputs": [
    {
     "name": "stdout",
     "output_type": "stream",
     "text": [
      "There was 0 integers over 50 entered, and you entered 0 integers.\n"
     ]
    }
   ],
   "source": [
    "# Program to count integers entered over 50, and to return total number of integers entered\n",
    "# Author: Ryan Pitman\n",
    "# Date: 16/10/2023\n",
    "\n",
    "count = 0\n",
    "totalInts = 0\n",
    "userInput = 1\n",
    "\n",
    "# While loop to keep asking for input until 0 is entered\n",
    "while userInput != 0:\n",
    "    userInput = int(input(\"Please enter a number (0 to quit): \"))\n",
    "\n",
    "    if userInput > 50:\n",
    "        count += 1\n",
    "        totalInts += 1\n",
    "    elif userInput != 0:\n",
    "      totalInts += 1\n",
    "\n",
    "\n",
    "print(f\"There was {count} integers over 50 entered, and you entered {totalInts} integers.\")\n",
    "\n",
    "\n"
   ]
  },
  {
   "cell_type": "markdown",
   "metadata": {},
   "source": [
    "## Question 2 (12 marks)\n",
    "Write a guessing game where the user has to guess a random number between 1 and 20. After every guess the program tells the user whether their number was too large or too small. When the number is guessed the number of tries needed should be printed. It counts only as one try if they input the same number multiple times consecutively. Use a loop in the algorithm. Do not use a break statement to end the loop.\n"
   ]
  },
  {
   "cell_type": "code",
   "execution_count": 2,
   "metadata": {},
   "outputs": [
    {
     "name": "stdout",
     "output_type": "stream",
     "text": [
      "For this game you have to guess a positive integer between 1 and 20.\n",
      "Your guess was too high!\n",
      "Your guess was too high!\n",
      "You guessed correctly! The number was 3.\n",
      "\n",
      "Thanks for playing!\n"
     ]
    }
   ],
   "source": [
    "# Simple Guessing Game implemented using python random library, guessing between 1 and 20\n",
    "# Author: Ryan Pitman\n",
    "# Date: 16/10/2023\n",
    "\n",
    "import random\n",
    "\n",
    "# Generate random integer between 1 and 20\n",
    "target = random.randint(1,20)\n",
    "lastGuess = 0\n",
    "guessed = False\n",
    "\n",
    "\n",
    "print('For this game you have to guess a positive integer between 1 and 20.')\n",
    "\n",
    "# Loop until the user has guessed correctly or run out of guesses\n",
    "while guessed == False:\n",
    "  userGuess = int(input('Please enter your guess: '))\n",
    "\n",
    "  # Check the users guesses against the target number\n",
    "  if userGuess == target:\n",
    "    guessed = True\n",
    "    print(f'You guessed correctly! The number was {target}.')\n",
    "  elif userGuess > target and userGuess != lastGuess:\n",
    "    lastGuess = userGuess\n",
    "    print(f'Your guess was too high!')\n",
    "  elif userGuess < target and userGuess != lastGuess:\n",
    "    lastGuess = userGuess\n",
    "    print(f'Your guess was too low!')\n",
    "  else:\n",
    "    print('You have already guessed that number. Please try again.')\n",
    "\n",
    "print('\\nThanks for playing!')"
   ]
  },
  {
   "cell_type": "code",
   "execution_count": null,
   "metadata": {},
   "outputs": [],
   "source": []
  }
 ],
 "metadata": {
  "kernelspec": {
   "display_name": "Python 3 (ipykernel)",
   "language": "python",
   "name": "python3"
  },
  "language_info": {
   "codemirror_mode": {
    "name": "ipython",
    "version": 3
   },
   "file_extension": ".py",
   "mimetype": "text/x-python",
   "name": "python",
   "nbconvert_exporter": "python",
   "pygments_lexer": "ipython3",
   "version": "3.11.5"
  }
 },
 "nbformat": 4,
 "nbformat_minor": 4
}
